{
  "nbformat": 4,
  "nbformat_minor": 5,
  "metadata": {
    "kernelspec": {
      "display_name": "Python 3",
      "language": "python",
      "name": "python3"
    },
    "language_info": {
      "codemirror_mode": {
        "name": "ipython",
        "version": 3
      },
      "file_extension": ".py",
      "mimetype": "text/x-python",
      "name": "python",
      "nbconvert_exporter": "python",
      "pygments_lexer": "ipython3",
      "version": "3.8.8"
    },
    "colab": {
      "name": "Spark and Python for Big Data Final Exam_AbdelrahmanSedkyMedany.ipynb",
      "provenance": [],
      "collapsed_sections": []
    }
  },
  "cells": [
    {
      "cell_type": "markdown",
      "metadata": {
        "id": "fa486f23"
      },
      "source": [
        "![image.png](attachment:image.png)"
      ],
      "id": "fa486f23"
    },
    {
      "cell_type": "markdown",
      "metadata": {
        "id": "abbf1e33"
      },
      "source": [
        "##### **Good luck with taking your exam. Keep working and make your dreams all come true. Seeing the results of all of your hard work will make this struggle worth it. We’re all thinking of you.** \n",
        "<b><font color='blue'>AI-PRO Spark Team ITI</font></b>"
      ],
      "id": "abbf1e33"
    },
    {
      "cell_type": "markdown",
      "metadata": {
        "id": "8326ba88"
      },
      "source": [
        "## Objective:\n",
        "- The objective from this project is to create a <b>Logistic Regression Classifier</b> to predict the <b>Stroke Condition</b>.\n",
        "- <b>Stoke</b> is a condition in which either the blood flow to the brain stops or blood flow is excessive.\n",
        "- It is required to obtain <b>ROC > 0.65</b>."
      ],
      "id": "8326ba88"
    },
    {
      "cell_type": "markdown",
      "metadata": {
        "id": "0eb78c16"
      },
      "source": [
        "### Data:\n",
        "- Data is provided in csv format in a file named <b>healthcare-dataset-stroke-data.csv</b>"
      ],
      "id": "0eb78c16"
    },
    {
      "cell_type": "markdown",
      "metadata": {
        "id": "7c842b79"
      },
      "source": [
        "### Column names and data types are as follow:\n",
        "- id, integer.\n",
        "- gender, string.\n",
        "- age, double.\n",
        "- hypertension, integer.\n",
        "- heart_disease, integer.\n",
        "- ever_married, string.\n",
        "- work_type, string.\n",
        "- Residence_type, string.\n",
        "- avg_glucose_level, double.\n",
        "- bmi, double.\n",
        "- smoking_status, string.\n",
        "- stroke, integer <b>(Target Label)</b>.\n",
        "If the person has stroke the stroke label value is <b>\"1\"</b> otherwise <b>\"0\"</b>."
      ],
      "id": "7c842b79"
    },
    {
      "cell_type": "markdown",
      "metadata": {
        "id": "6971f788"
      },
      "source": [
        "## To perform this task follow the following guiding steps:"
      ],
      "id": "6971f788"
    },
    {
      "cell_type": "markdown",
      "metadata": {
        "id": "e31bc851"
      },
      "source": [
        "### Create a spark session and import the required libraries"
      ],
      "id": "e31bc851"
    },
    {
      "cell_type": "code",
      "metadata": {
        "colab": {
          "base_uri": "https://localhost:8080/"
        },
        "id": "ab3ba311",
        "outputId": "51b1cce1-991c-47c0-9cf3-781331711f84"
      },
      "source": [
        "!pip install pyspark"
      ],
      "id": "ab3ba311",
      "execution_count": 1,
      "outputs": [
        {
          "output_type": "stream",
          "name": "stdout",
          "text": [
            "Collecting pyspark\n",
            "  Downloading pyspark-3.2.0.tar.gz (281.3 MB)\n",
            "\u001b[K     |████████████████████████████████| 281.3 MB 36 kB/s \n",
            "\u001b[?25hCollecting py4j==0.10.9.2\n",
            "  Downloading py4j-0.10.9.2-py2.py3-none-any.whl (198 kB)\n",
            "\u001b[K     |████████████████████████████████| 198 kB 50.0 MB/s \n",
            "\u001b[?25hBuilding wheels for collected packages: pyspark\n",
            "  Building wheel for pyspark (setup.py) ... \u001b[?25l\u001b[?25hdone\n",
            "  Created wheel for pyspark: filename=pyspark-3.2.0-py2.py3-none-any.whl size=281805912 sha256=8d693b130298cce532797cb8796cf8488c8e361db025dfa15b5bbf62523d68c2\n",
            "  Stored in directory: /root/.cache/pip/wheels/0b/de/d2/9be5d59d7331c6c2a7c1b6d1a4f463ce107332b1ecd4e80718\n",
            "Successfully built pyspark\n",
            "Installing collected packages: py4j, pyspark\n",
            "Successfully installed py4j-0.10.9.2 pyspark-3.2.0\n"
          ]
        }
      ]
    },
    {
      "cell_type": "code",
      "metadata": {
        "id": "hkJxxbRQuAQ6"
      },
      "source": [
        "from pyspark.sql import SparkSession\n",
        "spark = SparkSession.builder.appName(\"final Project\").getOrCreate()"
      ],
      "id": "hkJxxbRQuAQ6",
      "execution_count": 3,
      "outputs": []
    },
    {
      "cell_type": "code",
      "metadata": {
        "id": "pfQmykV1uE-o"
      },
      "source": [
        "from pyspark.sql.types import DoubleType, StringType, StructType, StructField, IntegerType, TimestampType"
      ],
      "id": "pfQmykV1uE-o",
      "execution_count": 4,
      "outputs": []
    },
    {
      "cell_type": "markdown",
      "metadata": {
        "id": "843b8468"
      },
      "source": [
        "### Create a data schema programatically"
      ],
      "id": "843b8468"
    },
    {
      "cell_type": "code",
      "metadata": {
        "id": "8616fe16"
      },
      "source": [
        "schema = StructType([StructField(\"id\", IntegerType(), False),\n",
        "                     StructField(\"gender\", StringType(), False),\n",
        "                     StructField(\"age\", DoubleType(), False),\n",
        "                     StructField(\"hypertension\", IntegerType(), False),\n",
        "                     StructField(\"heart_disease\", IntegerType(), False),\n",
        "                     StructField(\"ever_married\", StringType(), False),\n",
        "                     StructField(\"work_type\", StringType(), False),\n",
        "                     StructField(\"Residence_type\", StringType(), False),\n",
        "                     StructField(\"avg_glucose_level\", DoubleType(), False),\n",
        "                     StructField(\"bmi\", DoubleType(), False),\n",
        "                     StructField(\"smoking_status\", StringType(), False),\n",
        "                     StructField(\"stroke\", IntegerType(), False)])"
      ],
      "id": "8616fe16",
      "execution_count": 5,
      "outputs": []
    },
    {
      "cell_type": "markdown",
      "metadata": {
        "id": "2d00718f"
      },
      "source": [
        "### Read the data using the standard DataReader (Key,Value) pairs format\n",
        "- Provide the schema and any other required options."
      ],
      "id": "2d00718f"
    },
    {
      "cell_type": "code",
      "metadata": {
        "id": "61fcc4cd"
      },
      "source": [
        "df = spark.read.csv(\"/content/healthcare-dataset-stroke-data.csv\", header=\"true\", schema=schema, inferSchema=\"true\")"
      ],
      "id": "61fcc4cd",
      "execution_count": 6,
      "outputs": []
    },
    {
      "cell_type": "markdown",
      "metadata": {
        "id": "974bc193"
      },
      "source": [
        "### Explore the data \n",
        "#### You have to do the following:\n",
        "- Print the Schema.\n",
        "- Show the first 10 rows from the data.\n",
        "- Explore null values and show how many null values in each column.\n",
        "- Plot a count plot for the target label and <b>notice the graph</b>.\n",
        "- Perform any additional EDA you find useful."
      ],
      "id": "974bc193"
    },
    {
      "cell_type": "code",
      "metadata": {
        "colab": {
          "base_uri": "https://localhost:8080/"
        },
        "id": "353b6f34",
        "outputId": "4cf3674e-7994-4eac-b750-a80ccc562748"
      },
      "source": [
        "df.printSchema()"
      ],
      "id": "353b6f34",
      "execution_count": 7,
      "outputs": [
        {
          "output_type": "stream",
          "name": "stdout",
          "text": [
            "root\n",
            " |-- id: integer (nullable = true)\n",
            " |-- gender: string (nullable = true)\n",
            " |-- age: double (nullable = true)\n",
            " |-- hypertension: integer (nullable = true)\n",
            " |-- heart_disease: integer (nullable = true)\n",
            " |-- ever_married: string (nullable = true)\n",
            " |-- work_type: string (nullable = true)\n",
            " |-- Residence_type: string (nullable = true)\n",
            " |-- avg_glucose_level: double (nullable = true)\n",
            " |-- bmi: double (nullable = true)\n",
            " |-- smoking_status: string (nullable = true)\n",
            " |-- stroke: integer (nullable = true)\n",
            "\n"
          ]
        }
      ]
    },
    {
      "cell_type": "code",
      "metadata": {
        "colab": {
          "base_uri": "https://localhost:8080/"
        },
        "id": "6-6LdEMFu_cT",
        "outputId": "68697457-2a6f-4f0d-a73f-a6f24e2387b6"
      },
      "source": [
        "df.show(10)"
      ],
      "id": "6-6LdEMFu_cT",
      "execution_count": 8,
      "outputs": [
        {
          "output_type": "stream",
          "name": "stdout",
          "text": [
            "+-----+------+----+------------+-------------+------------+-------------+--------------+-----------------+----+---------------+------+\n",
            "|   id|gender| age|hypertension|heart_disease|ever_married|    work_type|Residence_type|avg_glucose_level| bmi| smoking_status|stroke|\n",
            "+-----+------+----+------------+-------------+------------+-------------+--------------+-----------------+----+---------------+------+\n",
            "| 9046|  Male|67.0|           0|            1|         Yes|      Private|         Urban|           228.69|36.6|formerly smoked|     1|\n",
            "|51676|Female|61.0|           0|            0|         Yes|Self-employed|         Rural|           202.21|null|   never smoked|     1|\n",
            "|31112|  Male|80.0|           0|            1|         Yes|      Private|         Rural|           105.92|32.5|   never smoked|     1|\n",
            "|60182|Female|49.0|           0|            0|         Yes|      Private|         Urban|           171.23|34.4|         smokes|     1|\n",
            "| 1665|Female|79.0|           1|            0|         Yes|Self-employed|         Rural|           174.12|24.0|   never smoked|     1|\n",
            "|56669|  Male|81.0|           0|            0|         Yes|      Private|         Urban|           186.21|29.0|formerly smoked|     1|\n",
            "|53882|  Male|74.0|           1|            1|         Yes|      Private|         Rural|            70.09|27.4|   never smoked|     1|\n",
            "|10434|Female|69.0|           0|            0|          No|      Private|         Urban|            94.39|22.8|   never smoked|     1|\n",
            "|27419|Female|59.0|           0|            0|         Yes|      Private|         Rural|            76.15|null|        Unknown|     1|\n",
            "|60491|Female|78.0|           0|            0|         Yes|      Private|         Urban|            58.57|24.2|        Unknown|     1|\n",
            "+-----+------+----+------------+-------------+------------+-------------+--------------+-----------------+----+---------------+------+\n",
            "only showing top 10 rows\n",
            "\n"
          ]
        }
      ]
    },
    {
      "cell_type": "code",
      "metadata": {
        "id": "OO5Crc7ru_m6"
      },
      "source": [
        "import pyspark.sql.functions as F\n",
        "import seaborn as sns"
      ],
      "id": "OO5Crc7ru_m6",
      "execution_count": 12,
      "outputs": []
    },
    {
      "cell_type": "code",
      "metadata": {
        "colab": {
          "base_uri": "https://localhost:8080/"
        },
        "id": "lpHr8L5svAGg",
        "outputId": "15ec6629-5e0b-4bac-99e8-2510bdd59abf"
      },
      "source": [
        "null_columns = []\n",
        "for col_name in df.columns:\n",
        "    null_values = df.where(F.col(col_name).isNull()).count()\n",
        "    if(null_values > 0):\n",
        "        null_columns.append((col_name, null_values))\n",
        "print(null_columns)"
      ],
      "id": "lpHr8L5svAGg",
      "execution_count": 11,
      "outputs": [
        {
          "output_type": "stream",
          "name": "stdout",
          "text": [
            "[('bmi', 201)]\n"
          ]
        }
      ]
    },
    {
      "cell_type": "code",
      "metadata": {
        "colab": {
          "base_uri": "https://localhost:8080/",
          "height": 279
        },
        "id": "X0cE2W3evpz9",
        "outputId": "c95c0dae-6e69-4f4e-d820-48c52f8cddb5"
      },
      "source": [
        "pplt = df.toPandas().stroke\n",
        "sns.countplot(x=pplt);"
      ],
      "id": "X0cE2W3evpz9",
      "execution_count": 13,
      "outputs": [
        {
          "output_type": "display_data",
          "data": {
            "image/png": "[encoded data removed]",
            "text/plain": [
              "<Figure size 432x288 with 1 Axes>"
            ]
          },
          "metadata": {
            "needs_background": "light"
          }
        }
      ]
    },
    {
      "cell_type": "markdown",
      "metadata": {
        "id": "59b770cb"
      },
      "source": [
        "### Get the summary statistics of the age column\n",
        "- You will find the minimum age is about <b>0.08</b>.\n",
        "- Remove rows for the age below <b>2 years old</b>."
      ],
      "id": "59b770cb"
    },
    {
      "cell_type": "code",
      "metadata": {
        "scrolled": false,
        "colab": {
          "base_uri": "https://localhost:8080/"
        },
        "id": "ed40fb11",
        "outputId": "46a07d40-e14b-439c-cee3-891b55cfb041"
      },
      "source": [
        "df.describe(['age']).show()"
      ],
      "id": "ed40fb11",
      "execution_count": 14,
      "outputs": [
        {
          "output_type": "stream",
          "name": "stdout",
          "text": [
            "+-------+------------------+\n",
            "|summary|               age|\n",
            "+-------+------------------+\n",
            "|  count|              5110|\n",
            "|   mean|43.226614481409015|\n",
            "| stddev| 22.61264672311348|\n",
            "|    min|              0.08|\n",
            "|    max|              82.0|\n",
            "+-------+------------------+\n",
            "\n"
          ]
        }
      ]
    },
    {
      "cell_type": "code",
      "metadata": {
        "colab": {
          "base_uri": "https://localhost:8080/"
        },
        "id": "cc99c0be",
        "outputId": "0c16712b-ff22-42a5-a77c-1caa57efdc65"
      },
      "source": [
        "df.createOrReplaceTempView(\"data_age\")\n",
        "df2 = spark.sql(\"SELECT * FROM data_age WHERE age >= 2\")\n",
        "df2.show(5)"
      ],
      "id": "cc99c0be",
      "execution_count": 16,
      "outputs": [
        {
          "output_type": "stream",
          "name": "stdout",
          "text": [
            "+-----+------+----+------------+-------------+------------+-------------+--------------+-----------------+----+---------------+------+\n",
            "|   id|gender| age|hypertension|heart_disease|ever_married|    work_type|Residence_type|avg_glucose_level| bmi| smoking_status|stroke|\n",
            "+-----+------+----+------------+-------------+------------+-------------+--------------+-----------------+----+---------------+------+\n",
            "| 9046|  Male|67.0|           0|            1|         Yes|      Private|         Urban|           228.69|36.6|formerly smoked|     1|\n",
            "|51676|Female|61.0|           0|            0|         Yes|Self-employed|         Rural|           202.21|null|   never smoked|     1|\n",
            "|31112|  Male|80.0|           0|            1|         Yes|      Private|         Rural|           105.92|32.5|   never smoked|     1|\n",
            "|60182|Female|49.0|           0|            0|         Yes|      Private|         Urban|           171.23|34.4|         smokes|     1|\n",
            "| 1665|Female|79.0|           1|            0|         Yes|Self-employed|         Rural|           174.12|24.0|   never smoked|     1|\n",
            "+-----+------+----+------------+-------------+------------+-------------+--------------+-----------------+----+---------------+------+\n",
            "only showing top 5 rows\n",
            "\n"
          ]
        }
      ]
    },
    {
      "cell_type": "markdown",
      "metadata": {
        "id": "bf8c9498"
      },
      "source": [
        "### Working with gender & smoking_status columns:\n",
        "- Select and show the gender & smoking_status columns\n",
        "- Get the distinct values for each column."
      ],
      "id": "bf8c9498"
    },
    {
      "cell_type": "code",
      "metadata": {
        "colab": {
          "base_uri": "https://localhost:8080/"
        },
        "id": "925a5ecd",
        "outputId": "0158a5da-128b-48e7-bbdd-cf7d3da72248"
      },
      "source": [
        "df2.createOrReplaceTempView(\"data_age_clean\")\n",
        "spark.sql(\"SELECT gender,smoking_status FROM data_age_clean\").show()"
      ],
      "id": "925a5ecd",
      "execution_count": 18,
      "outputs": [
        {
          "output_type": "stream",
          "name": "stdout",
          "text": [
            "+------+---------------+\n",
            "|gender| smoking_status|\n",
            "+------+---------------+\n",
            "|  Male|formerly smoked|\n",
            "|Female|   never smoked|\n",
            "|  Male|   never smoked|\n",
            "|Female|         smokes|\n",
            "|Female|   never smoked|\n",
            "|  Male|formerly smoked|\n",
            "|  Male|   never smoked|\n",
            "|Female|   never smoked|\n",
            "|Female|        Unknown|\n",
            "|Female|        Unknown|\n",
            "|Female|   never smoked|\n",
            "|Female|         smokes|\n",
            "|Female|         smokes|\n",
            "|  Male|        Unknown|\n",
            "|Female|   never smoked|\n",
            "|Female|   never smoked|\n",
            "|  Male|         smokes|\n",
            "|  Male|         smokes|\n",
            "|Female|   never smoked|\n",
            "|  Male|        Unknown|\n",
            "+------+---------------+\n",
            "only showing top 20 rows\n",
            "\n"
          ]
        }
      ]
    },
    {
      "cell_type": "code",
      "metadata": {
        "colab": {
          "base_uri": "https://localhost:8080/"
        },
        "id": "9dfe35a4",
        "outputId": "2d65e172-ead2-4f25-9042-3f08ab08287b"
      },
      "source": [
        "spark.sql(\"SELECT gender FROM data_age_clean group by gender\").show()"
      ],
      "id": "9dfe35a4",
      "execution_count": 19,
      "outputs": [
        {
          "output_type": "stream",
          "name": "stdout",
          "text": [
            "+------+\n",
            "|gender|\n",
            "+------+\n",
            "|Female|\n",
            "| Other|\n",
            "|  Male|\n",
            "+------+\n",
            "\n"
          ]
        }
      ]
    },
    {
      "cell_type": "code",
      "metadata": {
        "colab": {
          "base_uri": "https://localhost:8080/"
        },
        "id": "b7bf6c7e",
        "outputId": "e3a6b42a-1493-47a6-9169-39d5a4fe3811"
      },
      "source": [
        "spark.sql(\"SELECT smoking_status FROM data_age_clean group by smoking_status\").show()"
      ],
      "id": "b7bf6c7e",
      "execution_count": 20,
      "outputs": [
        {
          "output_type": "stream",
          "name": "stdout",
          "text": [
            "+---------------+\n",
            "| smoking_status|\n",
            "+---------------+\n",
            "|         smokes|\n",
            "|        Unknown|\n",
            "|   never smoked|\n",
            "|formerly smoked|\n",
            "+---------------+\n",
            "\n"
          ]
        }
      ]
    },
    {
      "cell_type": "markdown",
      "metadata": {
        "id": "850bdfe1"
      },
      "source": [
        "#### Change the string values of the columns into numerical values as follow:\n",
        "1. Gender column:\n",
        "    * Male = 1 \n",
        "    * Female = 0 \n",
        "    * Other = 0 \n",
        "2. Smoking Status column:\n",
        "  * never smoked = 0\n",
        "  * Unknown = 0.5\n",
        "  * formerly smoked = 0.75\n",
        "  * smokes = 1.0\n"
      ],
      "id": "850bdfe1"
    },
    {
      "cell_type": "code",
      "metadata": {
        "id": "355f2ef0"
      },
      "source": [
        "def gender_fn(col):\n",
        "  if col == 'Male':\n",
        "    return 1\n",
        "  else:\n",
        "    return 0"
      ],
      "id": "355f2ef0",
      "execution_count": 22,
      "outputs": []
    },
    {
      "cell_type": "code",
      "metadata": {
        "id": "7PDT4bBtyBFE"
      },
      "source": [
        "def Smoking_Status_fn(col):\n",
        "  if col == 'never smoked':\n",
        "    return 0.0\n",
        "  elif col == 'Unknown':\n",
        "    return 0.5\n",
        "  elif col== 'formerly smoked':\n",
        "    return 0.75\n",
        "  else:\n",
        "    return 1.0"
      ],
      "id": "7PDT4bBtyBFE",
      "execution_count": 23,
      "outputs": []
    },
    {
      "cell_type": "code",
      "metadata": {
        "colab": {
          "base_uri": "https://localhost:8080/"
        },
        "id": "EsC52IqYyBMc",
        "outputId": "252ba7a5-8636-4ef5-d225-bed6eba1dbd6"
      },
      "source": [
        "gen = F.udf(gender_fn, IntegerType())\n",
        "df2 = df2.withColumn('gender', gen('gender'))\n",
        "df2.show(3)"
      ],
      "id": "EsC52IqYyBMc",
      "execution_count": 24,
      "outputs": [
        {
          "output_type": "stream",
          "name": "stdout",
          "text": [
            "+-----+------+----+------------+-------------+------------+-------------+--------------+-----------------+----+---------------+------+\n",
            "|   id|gender| age|hypertension|heart_disease|ever_married|    work_type|Residence_type|avg_glucose_level| bmi| smoking_status|stroke|\n",
            "+-----+------+----+------------+-------------+------------+-------------+--------------+-----------------+----+---------------+------+\n",
            "| 9046|     1|67.0|           0|            1|         Yes|      Private|         Urban|           228.69|36.6|formerly smoked|     1|\n",
            "|51676|     0|61.0|           0|            0|         Yes|Self-employed|         Rural|           202.21|null|   never smoked|     1|\n",
            "|31112|     1|80.0|           0|            1|         Yes|      Private|         Rural|           105.92|32.5|   never smoked|     1|\n",
            "+-----+------+----+------------+-------------+------------+-------------+--------------+-----------------+----+---------------+------+\n",
            "only showing top 3 rows\n",
            "\n"
          ]
        }
      ]
    },
    {
      "cell_type": "code",
      "metadata": {
        "colab": {
          "base_uri": "https://localhost:8080/"
        },
        "id": "Ko9ezLB0yo38",
        "outputId": "ec8d9d83-956b-492f-acac-cea396ede045"
      },
      "source": [
        "smk = F.udf(Smoking_Status_fn, DoubleType())\n",
        "df2 = df2.withColumn('smoking_status', smk('smoking_status'))\n",
        "df2.show(3)"
      ],
      "id": "Ko9ezLB0yo38",
      "execution_count": 25,
      "outputs": [
        {
          "output_type": "stream",
          "name": "stdout",
          "text": [
            "+-----+------+----+------------+-------------+------------+-------------+--------------+-----------------+----+--------------+------+\n",
            "|   id|gender| age|hypertension|heart_disease|ever_married|    work_type|Residence_type|avg_glucose_level| bmi|smoking_status|stroke|\n",
            "+-----+------+----+------------+-------------+------------+-------------+--------------+-----------------+----+--------------+------+\n",
            "| 9046|     1|67.0|           0|            1|         Yes|      Private|         Urban|           228.69|36.6|          0.75|     1|\n",
            "|51676|     0|61.0|           0|            0|         Yes|Self-employed|         Rural|           202.21|null|           0.0|     1|\n",
            "|31112|     1|80.0|           0|            1|         Yes|      Private|         Rural|           105.92|32.5|           0.0|     1|\n",
            "+-----+------+----+------------+-------------+------------+-------------+--------------+-----------------+----+--------------+------+\n",
            "only showing top 3 rows\n",
            "\n"
          ]
        }
      ]
    },
    {
      "cell_type": "markdown",
      "metadata": {
        "id": "3da38a31"
      },
      "source": [
        "#### Show the output DataFrame\n",
        "- Select and show the gender & smoking_status columns after value changing.\n",
        "- Print schema for the new dataframe."
      ],
      "id": "3da38a31"
    },
    {
      "cell_type": "code",
      "metadata": {
        "colab": {
          "base_uri": "https://localhost:8080/"
        },
        "id": "7df0cf29",
        "outputId": "77051918-6e91-45b2-8e25-a8eb790b18c8"
      },
      "source": [
        "df2.createOrReplaceTempView(\"last\")\n",
        "spark.sql(\"select gender,smoking_status from last\").show()"
      ],
      "id": "7df0cf29",
      "execution_count": 26,
      "outputs": [
        {
          "output_type": "stream",
          "name": "stdout",
          "text": [
            "+------+--------------+\n",
            "|gender|smoking_status|\n",
            "+------+--------------+\n",
            "|     1|          0.75|\n",
            "|     0|           0.0|\n",
            "|     1|           0.0|\n",
            "|     0|           1.0|\n",
            "|     0|           0.0|\n",
            "|     1|          0.75|\n",
            "|     1|           0.0|\n",
            "|     0|           0.0|\n",
            "|     0|           0.5|\n",
            "|     0|           0.5|\n",
            "|     0|           0.0|\n",
            "|     0|           1.0|\n",
            "|     0|           1.0|\n",
            "|     1|           0.5|\n",
            "|     0|           0.0|\n",
            "|     0|           0.0|\n",
            "|     1|           1.0|\n",
            "|     1|           1.0|\n",
            "|     0|           0.0|\n",
            "|     1|           0.5|\n",
            "+------+--------------+\n",
            "only showing top 20 rows\n",
            "\n"
          ]
        }
      ]
    },
    {
      "cell_type": "markdown",
      "metadata": {
        "id": "89ce3b77"
      },
      "source": [
        "### Deal with null value according to your data analysis."
      ],
      "id": "89ce3b77"
    },
    {
      "cell_type": "code",
      "metadata": {
        "id": "4d78cb87"
      },
      "source": [
        "mean = round(spark.sql(\"SELECT AVG(bmi) FROM last\").collect()[0][0], 2)\n",
        "median = round(spark.sql(\"SELECT percentile(bmi,0.5) FROM last\").collect()[0][0], 2)"
      ],
      "id": "4d78cb87",
      "execution_count": 58,
      "outputs": []
    },
    {
      "cell_type": "code",
      "metadata": {
        "colab": {
          "base_uri": "https://localhost:8080/"
        },
        "id": "d_2P6R4VzukU",
        "outputId": "a6b5a965-d0f6-4c77-83d7-4fa0ae9f64cd"
      },
      "source": [
        "df2 = df2.fillna(mean, subset=['bmi'])\n",
        "df2.show(3)"
      ],
      "id": "d_2P6R4VzukU",
      "execution_count": 30,
      "outputs": [
        {
          "output_type": "stream",
          "name": "stdout",
          "text": [
            "+-----+------+----+------------+-------------+------------+-------------+--------------+-----------------+-----+--------------+------+\n",
            "|   id|gender| age|hypertension|heart_disease|ever_married|    work_type|Residence_type|avg_glucose_level|  bmi|smoking_status|stroke|\n",
            "+-----+------+----+------------+-------------+------------+-------------+--------------+-----------------+-----+--------------+------+\n",
            "| 9046|     1|67.0|           0|            1|         Yes|      Private|         Urban|           228.69| 36.6|          0.75|     1|\n",
            "|51676|     0|61.0|           0|            0|         Yes|Self-employed|         Rural|           202.21|29.14|           0.0|     1|\n",
            "|31112|     1|80.0|           0|            1|         Yes|      Private|         Rural|           105.92| 32.5|           0.0|     1|\n",
            "+-----+------+----+------------+-------------+------------+-------------+--------------+-----------------+-----+--------------+------+\n",
            "only showing top 3 rows\n",
            "\n"
          ]
        }
      ]
    },
    {
      "cell_type": "markdown",
      "metadata": {
        "id": "053c429a"
      },
      "source": [
        "### Split the data into training and test dataframes:\n",
        "- 80% training and 20% test.\n",
        "- seed = 42.\n",
        "- Save each dataframe as a parquet file"
      ],
      "id": "053c429a"
    },
    {
      "cell_type": "code",
      "metadata": {
        "id": "0236ea8b"
      },
      "source": [
        "X_train, X_test = df2.randomSplit([0.8, 0.2], seed = 42)"
      ],
      "id": "0236ea8b",
      "execution_count": 31,
      "outputs": []
    },
    {
      "cell_type": "code",
      "metadata": {
        "id": "8Xb9vBmn1OBo"
      },
      "source": [
        "X_train.write.parquet(\"/content/train.parquet\")"
      ],
      "id": "8Xb9vBmn1OBo",
      "execution_count": 32,
      "outputs": []
    },
    {
      "cell_type": "code",
      "metadata": {
        "id": "6taeVvRj1Pca"
      },
      "source": [
        "X_test.write.parquet(\"/content/test.parquet\")"
      ],
      "id": "6taeVvRj1Pca",
      "execution_count": 33,
      "outputs": []
    },
    {
      "cell_type": "markdown",
      "metadata": {
        "id": "78fa24da"
      },
      "source": [
        "### Read the saved Train and Test DataFrame:\n",
        "- Use the dataframes you read in the subsequent steps."
      ],
      "id": "78fa24da"
    },
    {
      "cell_type": "code",
      "metadata": {
        "id": "c3f5c1e3"
      },
      "source": [
        "X_train = spark.read.parquet(\"/content/train.parquet\")\n",
        "X_test = spark.read.parquet(\"/content/test.parquet\")"
      ],
      "id": "c3f5c1e3",
      "execution_count": 34,
      "outputs": []
    },
    {
      "cell_type": "markdown",
      "metadata": {
        "id": "987b4b40"
      },
      "source": [
        "### Create the model:\n",
        "- Perform feature engineering steps.\n",
        "- Create the logistic regression classifier.\n",
        "- Build the pipeline model that uses all feature engineering steps and the model.\n",
        "- Train the pipeline model using the trainig dataset."
      ],
      "id": "987b4b40"
    },
    {
      "cell_type": "code",
      "metadata": {
        "colab": {
          "base_uri": "https://localhost:8080/"
        },
        "id": "3278e362",
        "outputId": "9c93995d-975a-4358-e407-26f2a2f80b63"
      },
      "source": [
        "categoricalCols = [field for (field, dataType) in df2.dtypes\n",
        "                   if dataType == \"string\"]\n",
        "categoricalCols"
      ],
      "id": "3278e362",
      "execution_count": 36,
      "outputs": [
        {
          "output_type": "execute_result",
          "data": {
            "text/plain": [
              "['ever_married', 'work_type', 'Residence_type']"
            ]
          },
          "metadata": {},
          "execution_count": 36
        }
      ]
    },
    {
      "cell_type": "code",
      "metadata": {
        "colab": {
          "base_uri": "https://localhost:8080/"
        },
        "id": "4e41b352",
        "outputId": "64281017-9951-4145-835a-70ed5a87e55e"
      },
      "source": [
        "indexOutputCols = [x + \"_Index\" for x in categoricalCols]\n",
        "indexOutputCols\n",
        "oheOutputCols = [x + \"_OHE\" for x in categoricalCols]\n",
        "oheOutputCols"
      ],
      "id": "4e41b352",
      "execution_count": 37,
      "outputs": [
        {
          "output_type": "execute_result",
          "data": {
            "text/plain": [
              "['ever_married_OHE', 'work_type_OHE', 'Residence_type_OHE']"
            ]
          },
          "metadata": {},
          "execution_count": 37
        }
      ]
    },
    {
      "cell_type": "code",
      "metadata": {
        "id": "106453d7"
      },
      "source": [
        "from pyspark.ml.feature import StringIndexer, VectorAssembler, OneHotEncoder\n",
        "\n",
        "stringIndexer = StringIndexer(inputCols=categoricalCols,\n",
        "                             outputCols=indexOutputCols,\n",
        "                             handleInvalid='skip')\n",
        "oheEncoder = OneHotEncoder(inputCols=indexOutputCols,\n",
        "                          outputCols=oheOutputCols)"
      ],
      "id": "106453d7",
      "execution_count": 38,
      "outputs": []
    },
    {
      "cell_type": "code",
      "metadata": {
        "colab": {
          "base_uri": "https://localhost:8080/"
        },
        "id": "aLQGmNuN12tS",
        "outputId": "e3940d1f-5fe9-42af-ed52-3b1fa2e1095a"
      },
      "source": [
        "numericCols = [field for (field,dataType) in df2.dtypes\n",
        "              if ((dataType=='double')& (field!='stroke'))]\n",
        "numericCols"
      ],
      "id": "aLQGmNuN12tS",
      "execution_count": 39,
      "outputs": [
        {
          "output_type": "execute_result",
          "data": {
            "text/plain": [
              "['age', 'avg_glucose_level', 'bmi', 'smoking_status']"
            ]
          },
          "metadata": {},
          "execution_count": 39
        }
      ]
    },
    {
      "cell_type": "code",
      "metadata": {
        "colab": {
          "base_uri": "https://localhost:8080/"
        },
        "id": "vmn3mvAS12v2",
        "outputId": "7b498437-eee9-49f7-ccbd-02526855ac08"
      },
      "source": [
        "assemblerInputs = oheOutputCols + numericCols +['gender','hypertension','heart_disease']\n",
        "assemblerInputs"
      ],
      "id": "vmn3mvAS12v2",
      "execution_count": 40,
      "outputs": [
        {
          "output_type": "execute_result",
          "data": {
            "text/plain": [
              "['ever_married_OHE',\n",
              " 'work_type_OHE',\n",
              " 'Residence_type_OHE',\n",
              " 'age',\n",
              " 'avg_glucose_level',\n",
              " 'bmi',\n",
              " 'smoking_status',\n",
              " 'gender',\n",
              " 'hypertension',\n",
              " 'heart_disease']"
            ]
          },
          "metadata": {},
          "execution_count": 40
        }
      ]
    },
    {
      "cell_type": "code",
      "metadata": {
        "id": "cKH4QHOE2LD9"
      },
      "source": [
        "vecAssembler = VectorAssembler(inputCols=assemblerInputs,outputCol='features')"
      ],
      "id": "cKH4QHOE2LD9",
      "execution_count": 41,
      "outputs": []
    },
    {
      "cell_type": "code",
      "metadata": {
        "id": "zxpwZTt42coo"
      },
      "source": [
        "from pyspark.ml import Pipeline\n",
        "from pyspark.ml.classification import LogisticRegression\n",
        "LR = LogisticRegression(featuresCol = 'features', labelCol = 'stroke', maxIter=10)"
      ],
      "id": "zxpwZTt42coo",
      "execution_count": 42,
      "outputs": []
    },
    {
      "cell_type": "code",
      "metadata": {
        "colab": {
          "base_uri": "https://localhost:8080/"
        },
        "id": "U3_NbWw-2LJU",
        "outputId": "dd25919a-26aa-4e40-82aa-d546e97491ec"
      },
      "source": [
        "pipeline = Pipeline(stages=[stringIndexer,oheEncoder,vecAssembler,LR])\n",
        "\n",
        "predictions = pipeline.fit(X_train).transform(X_test)\n",
        "predictions.show()"
      ],
      "id": "U3_NbWw-2LJU",
      "execution_count": 43,
      "outputs": [
        {
          "output_type": "stream",
          "name": "stdout",
          "text": [
            "+----+------+----+------------+-------------+------------+-------------+--------------+-----------------+-----+--------------+------+------------------+---------------+--------------------+----------------+-------------+------------------+--------------------+--------------------+--------------------+----------+\n",
            "|  id|gender| age|hypertension|heart_disease|ever_married|    work_type|Residence_type|avg_glucose_level|  bmi|smoking_status|stroke|ever_married_Index|work_type_Index|Residence_type_Index|ever_married_OHE|work_type_OHE|Residence_type_OHE|            features|       rawPrediction|         probability|prediction|\n",
            "+----+------+----+------------+-------------+------------+-------------+--------------+-----------------+-----+--------------+------+------------------+---------------+--------------------+----------------+-------------+------------------+--------------------+--------------------+--------------------+----------+\n",
            "|  84|     1|55.0|           0|            0|         Yes|      Private|         Urban|            89.17| 31.5|           0.0|     0|               0.0|            0.0|                 0.0|   (1,[0],[1.0])|(4,[0],[1.0])|     (1,[0],[1.0])|(13,[0,1,5,6,7,8,...|[3.46513607142008...|[0.96967933883106...|       0.0|\n",
            "| 129|     0|24.0|           0|            0|          No|      Private|         Urban|            97.55| 26.2|           0.0|     0|               1.0|            0.0|                 0.0|       (1,[],[])|(4,[0],[1.0])|     (1,[0],[1.0])|(13,[1,5,6,7,8],[...|[5.46157894452847...|[0.99577111450520...|       0.0|\n",
            "| 156|     0|33.0|           0|            0|         Yes|      Private|         Rural|            86.97| 42.2|           0.0|     0|               0.0|            0.0|                 1.0|   (1,[0],[1.0])|(4,[0],[1.0])|         (1,[],[])|(13,[0,1,6,7,8],[...|[5.11254202595336...|[0.99401527405984...|       0.0|\n",
            "| 205|     0|43.0|           0|            0|         Yes|      Private|         Rural|            88.23| 37.6|           0.5|     0|               0.0|            0.0|                 1.0|   (1,[0],[1.0])|(4,[0],[1.0])|         (1,[],[])|(13,[0,1,6,7,8,9]...|[4.15628579449520...|[0.98457599150667...|       0.0|\n",
            "| 259|     1|79.0|           0|            0|         Yes|      Private|         Urban|           198.79| 24.9|           0.0|     0|               0.0|            0.0|                 0.0|   (1,[0],[1.0])|(4,[0],[1.0])|     (1,[0],[1.0])|(13,[0,1,5,6,7,8,...|[1.23047459924734...|[0.77390162944293...|       0.0|\n",
            "| 338|     0|43.0|           0|            0|         Yes|      Private|         Rural|           110.32| 28.4|           0.0|     0|               0.0|            0.0|                 1.0|   (1,[0],[1.0])|(4,[0],[1.0])|         (1,[],[])|(13,[0,1,6,7,8],[...|[4.26971772468940...|[0.98620717234672...|       0.0|\n",
            "| 394|     1|78.0|           1|            0|         Yes|Self-employed|         Rural|            75.19| 27.6|           0.0|     0|               0.0|            1.0|                 1.0|   (1,[0],[1.0])|(4,[1],[1.0])|         (1,[],[])|(13,[0,2,6,7,8,10...|[1.82998230821065...|[0.86175961921852...|       0.0|\n",
            "| 491|     0|74.0|           0|            0|         Yes|Self-employed|         Urban|            74.96| 26.6|           0.0|     1|               0.0|            1.0|                 0.0|   (1,[0],[1.0])|(4,[1],[1.0])|     (1,[0],[1.0])|(13,[0,2,5,6,7,8]...|[2.47355242600976...|[0.92226682322213...|       0.0|\n",
            "| 587|     0|14.0|           0|            0|          No|     children|         Rural|            92.22| 22.8|           0.5|     0|               1.0|            3.0|                 1.0|       (1,[],[])|(4,[3],[1.0])|         (1,[],[])|(13,[4,6,7,8,9],[...|[6.05778902016594...|[0.99766589289128...|       0.0|\n",
            "| 621|     1|69.0|           0|            0|         Yes|      Private|         Rural|           101.52| 26.8|           1.0|     0|               0.0|            0.0|                 1.0|   (1,[0],[1.0])|(4,[0],[1.0])|         (1,[],[])|(13,[0,1,6,7,8,9,...|[2.01988454812613...|[0.88286907062650...|       0.0|\n",
            "| 641|     1|52.0|           0|            0|         Yes|     Govt_job|         Rural|            87.26| 40.1|           1.0|     0|               0.0|            2.0|                 1.0|   (1,[0],[1.0])|(4,[2],[1.0])|         (1,[],[])|(13,[0,3,6,7,8,9,...|[3.43166926700852...|[0.96867975176909...|       0.0|\n",
            "| 712|     0|82.0|           1|            1|          No|      Private|         Rural|            84.03| 26.5|          0.75|     1|               1.0|            0.0|                 1.0|       (1,[],[])|(4,[0],[1.0])|         (1,[],[])|(13,[1,6,7,8,9,11...|[0.52144100808729...|[0.62748466041491...|       0.0|\n",
            "| 724|     1|17.0|           0|            0|          No|      Private|         Rural|            81.77| 44.7|           0.0|     0|               1.0|            0.0|                 1.0|       (1,[],[])|(4,[0],[1.0])|         (1,[],[])|(13,[1,6,7,8,10],...|[6.16787238624581...|[0.99790869265246...|       0.0|\n",
            "| 739|     0|73.0|           0|            0|         Yes|Self-employed|         Rural|            79.69|29.14|          0.75|     0|               0.0|            1.0|                 1.0|   (1,[0],[1.0])|(4,[1],[1.0])|         (1,[],[])|(13,[0,2,6,7,8,9]...|[2.26276245052974...|[0.90574572704895...|       0.0|\n",
            "| 820|     0|59.0|           1|            0|         Yes|      Private|         Rural|            99.06| 23.4|           0.0|     0|               0.0|            0.0|                 1.0|   (1,[0],[1.0])|(4,[0],[1.0])|         (1,[],[])|(13,[0,1,6,7,8,11...|[2.70215994419355...|[0.93715397706295...|       0.0|\n",
            "| 924|     0|60.0|           0|            0|         Yes|     Govt_job|         Urban|            80.86| 31.0|           1.0|     0|               0.0|            2.0|                 0.0|   (1,[0],[1.0])|(4,[2],[1.0])|     (1,[0],[1.0])|(13,[0,3,5,6,7,8,...|[2.76748892060859...|[0.94089349256693...|       0.0|\n",
            "|1112|     0|14.0|           0|            0|          No|      Private|         Urban|            83.42| 28.7|           0.0|     0|               1.0|            0.0|                 0.0|       (1,[],[])|(4,[0],[1.0])|     (1,[0],[1.0])|(13,[1,5,6,7,8],[...|[6.24755374929747...|[0.99806855540559...|       0.0|\n",
            "|1473|     1|69.0|           1|            0|         Yes|      Private|         Urban|           229.21| 30.1|           1.0|     0|               0.0|            0.0|                 0.0|   (1,[0],[1.0])|(4,[0],[1.0])|     (1,[0],[1.0])|[1.0,1.0,0.0,0.0,...|[0.89788656845111...|[0.71051499823995...|       0.0|\n",
            "|1666|     1|70.0|           0|            0|         Yes|     Govt_job|         Urban|           202.55|29.14|          0.75|     0|               0.0|            2.0|                 0.0|   (1,[0],[1.0])|(4,[2],[1.0])|     (1,[0],[1.0])|[1.0,0.0,0.0,1.0,...|[1.63357801354736...|[0.83665920138159...|       0.0|\n",
            "|1686|     0|29.0|           0|            0|          No|      Private|         Urban|            71.89| 27.6|           0.0|     0|               1.0|            0.0|                 0.0|       (1,[],[])|(4,[0],[1.0])|     (1,[0],[1.0])|(13,[1,5,6,7,8],[...|[5.22222731246033...|[0.99463365432034...|       0.0|\n",
            "+----+------+----+------------+-------------+------------+-------------+--------------+-----------------+-----+--------------+------+------------------+---------------+--------------------+----------------+-------------+------------------+--------------------+--------------------+--------------------+----------+\n",
            "only showing top 20 rows\n",
            "\n"
          ]
        }
      ]
    },
    {
      "cell_type": "markdown",
      "metadata": {
        "id": "a05c2677"
      },
      "source": [
        "### Perform predictions on tests dataframe:\n",
        "- Test the model using the test dataframe\n",
        "- Select and show the feature column.\n",
        "- Print the schema of the output dataframe.\n",
        "- Select and show both prediction and label columns.\n",
        "- Explore the results for the label column stroke=1. i.e. select both columns (prediction,stroke) for stroke=1.<b>notice the result.</b> \n",
        "- Count the predicted 1 and 0 values.<b>notice the result.</b>   "
      ],
      "id": "a05c2677"
    },
    {
      "cell_type": "code",
      "metadata": {
        "colab": {
          "base_uri": "https://localhost:8080/"
        },
        "id": "d772bef6",
        "outputId": "ccc2298a-b0c2-456e-ec3a-60523c2a7547"
      },
      "source": [
        "df2.groupBy(\"stroke\").count().show()\n",
        "predictions.select('features').show(truncate=False)"
      ],
      "id": "d772bef6",
      "execution_count": 45,
      "outputs": [
        {
          "output_type": "stream",
          "name": "stdout",
          "text": [
            "+------+-----+\n",
            "|stroke|count|\n",
            "+------+-----+\n",
            "|     1|  248|\n",
            "|     0| 4742|\n",
            "+------+-----+\n",
            "\n",
            "+------------------------------------------------------------+\n",
            "|features                                                    |\n",
            "+------------------------------------------------------------+\n",
            "|(13,[0,1,5,6,7,8,10],[1.0,1.0,1.0,55.0,89.17,31.5,1.0])     |\n",
            "|(13,[1,5,6,7,8],[1.0,1.0,24.0,97.55,26.2])                  |\n",
            "|(13,[0,1,6,7,8],[1.0,1.0,33.0,86.97,42.2])                  |\n",
            "|(13,[0,1,6,7,8,9],[1.0,1.0,43.0,88.23,37.6,0.5])            |\n",
            "|(13,[0,1,5,6,7,8,10],[1.0,1.0,1.0,79.0,198.79,24.9,1.0])    |\n",
            "|(13,[0,1,6,7,8],[1.0,1.0,43.0,110.32,28.4])                 |\n",
            "|(13,[0,2,6,7,8,10,11],[1.0,1.0,78.0,75.19,27.6,1.0,1.0])    |\n",
            "|(13,[0,2,5,6,7,8],[1.0,1.0,1.0,74.0,74.96,26.6])            |\n",
            "|(13,[4,6,7,8,9],[1.0,14.0,92.22,22.8,0.5])                  |\n",
            "|(13,[0,1,6,7,8,9,10],[1.0,1.0,69.0,101.52,26.8,1.0,1.0])    |\n",
            "|(13,[0,3,6,7,8,9,10],[1.0,1.0,52.0,87.26,40.1,1.0,1.0])     |\n",
            "|(13,[1,6,7,8,9,11,12],[1.0,82.0,84.03,26.5,0.75,1.0,1.0])   |\n",
            "|(13,[1,6,7,8,10],[1.0,17.0,81.77,44.7,1.0])                 |\n",
            "|(13,[0,2,6,7,8,9],[1.0,1.0,73.0,79.69,29.14,0.75])          |\n",
            "|(13,[0,1,6,7,8,11],[1.0,1.0,59.0,99.06,23.4,1.0])           |\n",
            "|(13,[0,3,5,6,7,8,9],[1.0,1.0,1.0,60.0,80.86,31.0,1.0])      |\n",
            "|(13,[1,5,6,7,8],[1.0,1.0,14.0,83.42,28.7])                  |\n",
            "|[1.0,1.0,0.0,0.0,0.0,1.0,69.0,229.21,30.1,1.0,1.0,1.0,0.0]  |\n",
            "|[1.0,0.0,0.0,1.0,0.0,1.0,70.0,202.55,29.14,0.75,1.0,0.0,0.0]|\n",
            "|(13,[1,5,6,7,8],[1.0,1.0,29.0,71.89,27.6])                  |\n",
            "+------------------------------------------------------------+\n",
            "only showing top 20 rows\n",
            "\n"
          ]
        }
      ]
    },
    {
      "cell_type": "code",
      "metadata": {
        "id": "3ea267eb"
      },
      "source": [
        ""
      ],
      "id": "3ea267eb",
      "execution_count": null,
      "outputs": []
    },
    {
      "cell_type": "code",
      "metadata": {
        "scrolled": false,
        "id": "480d892e"
      },
      "source": [
        ""
      ],
      "id": "480d892e",
      "execution_count": null,
      "outputs": []
    },
    {
      "cell_type": "markdown",
      "metadata": {
        "id": "daec120f"
      },
      "source": [
        "### Evaluate the model performance\n",
        "- Use <b>BinaryClassificationEvaluator</b>. This will calculate the <b>ROC</b>.\n",
        "- Set the parameters as follow:\n",
        "    - <b>rawPredictionCol='prediction'</b> and <b>labelCol='stroke'</b>"
      ],
      "id": "daec120f"
    },
    {
      "cell_type": "code",
      "metadata": {
        "id": "a7b5ad25"
      },
      "source": [
        "from pyspark.ml.evaluation import BinaryClassificationEvaluator"
      ],
      "id": "a7b5ad25",
      "execution_count": 46,
      "outputs": []
    },
    {
      "cell_type": "code",
      "metadata": {
        "id": "44d3a1e6"
      },
      "source": [
        "evaluatorROC = BinaryClassificationEvaluator(rawPredictionCol='prediction'\n",
        "                                             ,labelCol='stroke')"
      ],
      "id": "44d3a1e6",
      "execution_count": 47,
      "outputs": []
    },
    {
      "cell_type": "code",
      "metadata": {
        "colab": {
          "base_uri": "https://localhost:8080/"
        },
        "id": "3adbe41f",
        "outputId": "93e015ab-1b36-48fc-9c1d-c7cc0351530f"
      },
      "source": [
        "evaluatorROC.evaluate(predictions)"
      ],
      "id": "3adbe41f",
      "execution_count": 49,
      "outputs": [
        {
          "output_type": "execute_result",
          "data": {
            "text/plain": [
              "0.5"
            ]
          },
          "metadata": {},
          "execution_count": 49
        }
      ]
    },
    {
      "cell_type": "markdown",
      "metadata": {
        "id": "40206589"
      },
      "source": [
        "### Improve Model Performance\n",
        "- You may noticed that <b>the target label is imbalanced</b>.\n",
        "- LogisticRegression classifier has a special parameter <b>weightCol</b> to deal with imbalanced class.\n",
        "- In order to use this parameter you must have a <b>weightCol</b> in your training dataframe.\n",
        "- In order to create this column you will need to define a <b>UDF</b> and apply it to the target label column.\n",
        "- Create a LogisticRegression classifier with <b>weightCol</b> parameter.\n",
        "- Build and train a pipeline model with the new LogisticRegression.\n",
        "- Perform the prediction on the test dataframe. \n",
        "- Select and show both prediction and label columns.\n",
        "- Explore the results for the label column stroke=1. i.e. select both columns (prediction,stroke) for stroke=1.<b>notice the result.</b> \n",
        "- Count the predicted 1 and 0 values.<b>notice the result.</b>   \n",
        "- Evaluate the model performance exactly as in the previous step.\n",
        "### YOU SHOULD OBTAIN  ROC > 0.65\n",
        "<BR>\n",
        "<b><font color='red'>Note: feel free to deal with the imbalanced cluster with the above method or another. However, you can only use methods applied on SPARK DATAFRAME</font></b>"
      ],
      "id": "40206589"
    },
    {
      "cell_type": "code",
      "metadata": {
        "id": "03385adc"
      },
      "source": [
        "x_one = df2.groupBy(\"stroke\").count().collect()[0][1]\n",
        "x_zero = df2.groupBy(\"stroke\").count().collect()[1][1]\n",
        "\n",
        "total = x_one + x_zero\n",
        "ratio_zeros = x_zero / total\n",
        "ratio_ones = x_one / total"
      ],
      "id": "03385adc",
      "execution_count": 51,
      "outputs": []
    },
    {
      "cell_type": "code",
      "metadata": {
        "id": "fpbGGOjg4g8z"
      },
      "source": [
        "def weighted_col(x):\n",
        "  if x == 0:\n",
        "    return ratio_ones\n",
        "  else:\n",
        "    return ratio_zeros"
      ],
      "id": "fpbGGOjg4g8z",
      "execution_count": 52,
      "outputs": []
    },
    {
      "cell_type": "code",
      "metadata": {
        "id": "--P3TGZx4hDp"
      },
      "source": [
        "weighted_col_map = F.udf(weighted_col, DoubleType())\n",
        "X_train = X_train.withColumn('weighted_col', weighted_col_map('stroke'))"
      ],
      "id": "--P3TGZx4hDp",
      "execution_count": 53,
      "outputs": []
    },
    {
      "cell_type": "code",
      "metadata": {
        "colab": {
          "base_uri": "https://localhost:8080/"
        },
        "id": "00e034e9",
        "outputId": "a5417b8f-28c1-4930-b266-e446be5e689c"
      },
      "source": [
        "X_train.createOrReplaceTempView(\"train\")\n",
        "spark.sql(\"SELECT stroke, weighted_col FROM train\").show()"
      ],
      "id": "00e034e9",
      "execution_count": 54,
      "outputs": [
        {
          "output_type": "stream",
          "name": "stdout",
          "text": [
            "+------+-------------------+\n",
            "|stroke|       weighted_col|\n",
            "+------+-------------------+\n",
            "|     0|0.04969939879759519|\n",
            "|     0|0.04969939879759519|\n",
            "|     0|0.04969939879759519|\n",
            "|     0|0.04969939879759519|\n",
            "|     0|0.04969939879759519|\n",
            "|     0|0.04969939879759519|\n",
            "|     0|0.04969939879759519|\n",
            "|     0|0.04969939879759519|\n",
            "|     0|0.04969939879759519|\n",
            "|     0|0.04969939879759519|\n",
            "|     1| 0.9503006012024048|\n",
            "|     0|0.04969939879759519|\n",
            "|     0|0.04969939879759519|\n",
            "|     0|0.04969939879759519|\n",
            "|     0|0.04969939879759519|\n",
            "|     0|0.04969939879759519|\n",
            "|     0|0.04969939879759519|\n",
            "|     0|0.04969939879759519|\n",
            "|     0|0.04969939879759519|\n",
            "|     0|0.04969939879759519|\n",
            "+------+-------------------+\n",
            "only showing top 20 rows\n",
            "\n"
          ]
        }
      ]
    },
    {
      "cell_type": "code",
      "metadata": {
        "colab": {
          "base_uri": "https://localhost:8080/"
        },
        "id": "66efa0c6",
        "outputId": "4a1ff135-e398-4d67-8694-09511c117a23"
      },
      "source": [
        "LR = LogisticRegression(featuresCol = 'features', labelCol = 'stroke', weightCol = 'weighted_col')\n",
        "\n",
        "pipeline2 = Pipeline(stages=[stringIndexer,oheEncoder,vecAssembler,LR])\n",
        "pred_W = pipeline2.fit(X_train).transform(X_test)\n",
        "pred_W.select('prediction').distinct().show()"
      ],
      "id": "66efa0c6",
      "execution_count": 55,
      "outputs": [
        {
          "output_type": "stream",
          "name": "stdout",
          "text": [
            "+----------+\n",
            "|prediction|\n",
            "+----------+\n",
            "|       0.0|\n",
            "|       1.0|\n",
            "+----------+\n",
            "\n"
          ]
        }
      ]
    },
    {
      "cell_type": "code",
      "metadata": {
        "colab": {
          "base_uri": "https://localhost:8080/"
        },
        "id": "4e8c18b5",
        "outputId": "5f434ed1-8f07-4ea4-cf89-7cc6e5431cb3"
      },
      "source": [
        "evaluatorROC.evaluate(pred_W)"
      ],
      "id": "4e8c18b5",
      "execution_count": 56,
      "outputs": [
        {
          "output_type": "execute_result",
          "data": {
            "text/plain": [
              "0.7752264992090504"
            ]
          },
          "metadata": {},
          "execution_count": 56
        }
      ]
    },
    {
      "cell_type": "markdown",
      "metadata": {
        "id": "e00e7b53"
      },
      "source": [
        "# GOOD LUCK\n",
        "<b><font color='GREEN'>AI-PRO Spark Team ITI</font></b>"
      ],
      "id": "e00e7b53"
    },
    {
      "cell_type": "markdown",
      "metadata": {
        "id": "0e065922"
      },
      "source": [
        "![image-3.png](attachment:image-3.png)"
      ],
      "id": "0e065922"
    }
  ]
}